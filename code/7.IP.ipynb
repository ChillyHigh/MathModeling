{
 "cells": [
  {
   "cell_type": "markdown",
   "metadata": {},
   "source": [
    "## 整数规划\n",
    "\n",
    "可分为：整数线性规划和整数非线性规划\n"
   ]
  },
  {
   "cell_type": "code",
   "execution_count": 1,
   "metadata": {},
   "outputs": [
    {
     "name": "stdout",
     "output_type": "stream",
     "text": [
      "最优解: [4. 2.]\n",
      "目标函数最大值: 220.0\n"
     ]
    }
   ],
   "source": [
    "from scipy.optimize import linprog\n",
    "\n",
    "# 定义目标函数系数（转换为最小化问题，即目标函数取反）\n",
    "c = [-40, -30]  # 原目标函数 max 变为 min -40x1 - 30x2\n",
    "\n",
    "# 不等式约束矩阵和向量\n",
    "A_ub = [\n",
    "    [1, 1],      # x1 + x2 <= 6\n",
    "    [-1, 0],     # -x1 <= -1 (即 x1 >= 1)\n",
    "    [0, -1],     # -x2 <= -1 (即 x2 >= 1)\n",
    "    [240, 120],  # 240x1 + 120x2 <= 1200\n",
    "]\n",
    "b_ub = [6, -1, -1, 1200]\n",
    "\n",
    "# 变量范围\n",
    "bounds = [(0, None), (0, None)]  # x1 >= 0, x2 >= 0\n",
    "\n",
    "# 调用 linprog 求解\n",
    "result = linprog(c, A_ub=A_ub, b_ub=b_ub, bounds=bounds, method=\"highs\")\n",
    "\n",
    "# 输出结果\n",
    "if result.success:\n",
    "    print(\"最优解:\", result.x)  # 决策变量的最优值\n",
    "    print(\"目标函数最大值:\", -result.fun)  # 转换回原始的最大值\n",
    "else:\n",
    "    print(\"线性规划问题无解\")\n"
   ]
  }
 ],
 "metadata": {
  "kernelspec": {
   "display_name": "Python 3",
   "language": "python",
   "name": "python3"
  },
  "language_info": {
   "codemirror_mode": {
    "name": "ipython",
    "version": 3
   },
   "file_extension": ".py",
   "mimetype": "text/x-python",
   "name": "python",
   "nbconvert_exporter": "python",
   "pygments_lexer": "ipython3",
   "version": "3.11.11"
  }
 },
 "nbformat": 4,
 "nbformat_minor": 2
}
