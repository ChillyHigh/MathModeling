{
 "cells": [
  {
   "cell_type": "markdown",
   "metadata": {},
   "source": [
    "## 非线性规划\n",
    "我们需要求解如下非线性规划问题：\n",
    "\n",
    "$$\n",
    "\\min f(x) = x_1^2 + x_2^2 + x_3^2 + 8\n",
    "$$\n",
    "\n",
    "约束条件：\n",
    "\n",
    "$$\n",
    "\\begin{aligned}\n",
    "&-x_1 + x_2 - x_3 \\leq 0, \\\\\n",
    "&x_1 + x_2^2 + x_3^3 - 20 \\leq 0, \\\\\n",
    "&-x_1 - x_2^2 + 2 = 0.\n",
    "\\end{aligned}\n",
    "$$"
   ]
  },
  {
   "cell_type": "code",
   "execution_count": 2,
   "metadata": {},
   "outputs": [
    {
     "name": "stdout",
     "output_type": "stream",
     "text": [
      "最优解: [-0.91376577  1.70697562  2.6207414 ]\n",
      "目标函数最小值: 18.61701912874982\n"
     ]
    }
   ],
   "source": [
    "from scipy.optimize import minimize\n",
    "import numpy as np\n",
    "\n",
    "# 定义目标函数\n",
    "def objective(x):\n",
    "    return x[0]**2 + x[1]**2 + x[2]**2 + 8  # f(x) = x1^2 + x2^2 + x3^2 + 8\n",
    "\n",
    "# 定义约束条件\n",
    "# g1(x) = -x1 + x2 - x3 <= 0\n",
    "# g2(x) = x1 + x2^2 + x3^3 - 20 <= 0\n",
    "# h(x) = -x1 - x2^2 + 2 = 0\n",
    "constraints = [\n",
    "    {'type': 'ineq', 'fun': lambda x: -x[0] + x[1] - x[2]},                 # g1(x)\n",
    "    {'type': 'ineq', 'fun': lambda x: x[0] + x[1]**2 + x[2]**3 - 20},      # g2(x)\n",
    "    {'type': 'eq',   'fun': lambda x: -x[0] - x[1]**2 + 2}                 # h(x)\n",
    "]\n",
    "\n",
    "# 定义初始猜测值\n",
    "x0 = [1, 1, 1]  # 初始值可以调整\n",
    "\n",
    "# 调用 minimize 进行优化\n",
    "result = minimize(objective, x0, constraints=constraints, method='SLSQP')\n",
    "\n",
    "# 输出结果\n",
    "if result.success:\n",
    "    print(\"最优解:\", result.x)\n",
    "    print(\"目标函数最小值:\", result.fun)\n",
    "else:\n",
    "    print(\"优化失败:\", result.message)\n"
   ]
  },
  {
   "cell_type": "markdown",
   "metadata": {},
   "source": [
    "### 代码说明\n",
    "\n",
    "1. **目标函数**：\n",
    "   - $ f(x) = x_1^2 + x_2^2 + x_3^2 + 8 $.\n",
    "\n",
    "2. **约束条件**：\n",
    "   - $ g_1(x) = -x_1 + x_2 - x_3 \\leq 0 $\n",
    "   - $ g_2(x) = x_1 + x_2^2 + x_3^3 - 20 \\leq 0 $\n",
    "   - $ h(x) = -x_1 - x_2^2 + 2 = 0 $\n",
    "\n",
    "3. **`constraints` 参数**：\n",
    "   - 使用字典列表定义约束，每个约束用 `type` 和 `fun` 指定。\n",
    "   - `ineq` 表示不等式约束 ($ g_i(x) \\leq 0 $)。\n",
    "   - `eq` 表示等式约束 ($ h(x) = 0 $)。\n",
    "\n",
    "4. **初始点 `x0`**：\n",
    "   - 初始化的猜测值非常重要，会影响收敛速度和结果。\n",
    "\n",
    "5. **`method='SLSQP'`**：\n",
    "   - 使用序列二次规划方法解决该问题。\n"
   ]
  },
  {
   "cell_type": "markdown",
   "metadata": {},
   "source": [
    "### 例二\n",
    "\n",
    "求解如下非线性规划问题：\n",
    "\n",
    "$$\n",
    "\\min -f(x) = -x_1x_2x_3\n",
    "$$\n",
    "\n",
    "约束条件：\n",
    "\n",
    "$$\n",
    "\\begin{aligned}\n",
    "& -x_1 + x_2 - x_3 \\leq 0, \\\\\n",
    "& x_1 + x_2^2 + x_3^3 - 20 \\leq 0, \\\\\n",
    "& x_1x_2 - x_3 - 1 \\leq 0, \\\\\n",
    "& -x_1 - x_2^2 + 2 = 0, \\\\\n",
    "& 10 \\leq x_1 \\leq 20, \\\\\n",
    "& x_1 - x_2 = 10.\n",
    "\\end{aligned}\n",
    "$$\n"
   ]
  },
  {
   "cell_type": "code",
   "execution_count": 14,
   "metadata": {},
   "outputs": [
    {
     "name": "stdout",
     "output_type": "stream",
     "text": [
      "优化失败: Positive directional derivative for linesearch\n"
     ]
    }
   ],
   "source": [
    "from scipy.optimize import minimize\n",
    "import numpy as np\n",
    "\n",
    "# 定义目标函数\n",
    "def objective(x):\n",
    "    return -x[0] * x[1] * x[2]  # -f(x) = -x1 * x2 * x3\n",
    "\n",
    "# 定义约束条件\n",
    "constraints = [\n",
    "    {'type': 'ineq', 'fun': lambda x: -x[0] + x[1] - x[2]},                     # -x1 + x2 - x3 <= 0\n",
    "    {'type': 'ineq', 'fun': lambda x: x[0] + x[1]**2 + x[2]**3 - 20},          # x1 + x2^2 + x3^3 - 20 <= 0\n",
    "    {'type': 'ineq', 'fun': lambda x: x[0] * x[1] - x[2] - 1},                 # x1 * x2 - x3 - 1 <= 0\n",
    "    {'type': 'eq',   'fun': lambda x: -x[0] - x[1]**2 + 2},                    # -x1 - x2^2 + 2 = 0\n",
    "    {'type': 'eq',   'fun': lambda x: x[0] - x[1] - 10}                        # x1 - x2 = 10\n",
    "]\n",
    "\n",
    "# 定义变量的取值范围\n",
    "bounds = [(10, 20),  # 10 <= x1 <= 20\n",
    "          (None, None),  # x2 无限制\n",
    "          (None, None)]  # x3 无限制\n",
    "\n",
    "# 初始猜测值\n",
    "x0 = [0, 0, 0]  # x1=0, x2=0, x3=0\n",
    "\n",
    "# 调用 minimize 进行优化\n",
    "result = minimize(objective, x0, constraints=constraints, bounds=bounds, method='SLSQP')\n",
    "\n",
    "# 输出结果\n",
    "if result.success:\n",
    "    print(\"最优解:\", result.x)\n",
    "    print(\"目标函数最小值:\", result.fun)\n",
    "else:\n",
    "    print(\"优化失败:\", result.message)\n"
   ]
  }
 ],
 "metadata": {
  "kernelspec": {
   "display_name": "Python 3",
   "language": "python",
   "name": "python3"
  },
  "language_info": {
   "codemirror_mode": {
    "name": "ipython",
    "version": 3
   },
   "file_extension": ".py",
   "mimetype": "text/x-python",
   "name": "python",
   "nbconvert_exporter": "python",
   "pygments_lexer": "ipython3",
   "version": "3.11.11"
  }
 },
 "nbformat": 4,
 "nbformat_minor": 2
}
