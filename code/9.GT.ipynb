{
 "cells": [
  {
   "cell_type": "markdown",
   "metadata": {},
   "source": [
    "# 图论与最短路径算法"
   ]
  },
  {
   "cell_type": "markdown",
   "metadata": {},
   "source": [
    "## 图的结构\n",
    "如图所示，有一个包含5个顶点的无向图，边的权重用数字表示。\n",
    "\n",
    "### 邻接矩阵表示\n",
    "邻接矩阵 \\(D\\) 定义为：\n",
    "$\n",
    "D = \n",
    "\\begin{bmatrix}\n",
    "0 & 2 & \\infty & 5 & 3 \\\\\n",
    "2 & 0 & 6 & \\infty & \\infty \\\\\n",
    "\\infty & 6 & 0 & \\infty & \\infty \\\\\n",
    "5 & \\infty & \\infty & 0 & 8 \\\\\n",
    "3 & \\infty & \\infty & 8 & 0\n",
    "\\end{bmatrix}\n",
    "$\n",
    "\n",
    "### 图示说明\n",
    "\n",
    "1. **顶点**：共有 5 个顶点，分别标号为 1 到 5。\n",
    "2. **边的权重**：顶点之间连接的线段上标明了权重。例如，顶点 1 和顶点 2 之间的权重为 2，顶点 1 和顶点 4 之间的权重为 5。\n",
    "\n",
    "### 邻接矩阵的含义\n",
    "- 若两个顶点间没有直接边连接，则对应的邻接矩阵元素为 \\(\\infty\\)。\n",
    "- 对角线上元素为 0，表示顶点到自身的距离为 0。\n"
   ]
  },
  {
   "cell_type": "markdown",
   "metadata": {},
   "source": [
    "## 求解最短路径的常用算法\n",
    "### Dijkstra算法\n",
    "Dijkstra算法用于求解单源最短路径问题，即从一个指定的源顶点到所有其他顶点的最短路径。该算法使用贪心策略，每次选择当前未处理顶点中距离源顶点最近的顶点进行处理。\n",
    "\n",
    "***注意：Dijkstra算法只能用于非负权重的图。***\n",
    "\n",
    "此外还有其他算法，如Floyd-Warshall算法、Bellman-Ford算法等，可以根据具体需求选择合适的算法。"
   ]
  },
  {
   "cell_type": "markdown",
   "metadata": {},
   "source": [
    "### Python中的求解函数\n",
    "使用scipy库进行求解：自动选择合适的算法"
   ]
  },
  {
   "cell_type": "code",
   "execution_count": null,
   "metadata": {},
   "outputs": [],
   "source": [
    "import scipy.sparse.csgraph\n",
    "from scipy.sparse.csgraph import dijkstra\n",
    "\n",
    "# 使用Dijkstra算法求解最短路径\n",
    "distances, predecessors = dijkstra(D, directed=False, indices=0, return_predecessors=True)\n",
    "\n",
    "# 输出最短路径长度\n",
    "print(\"最短路径长度：\", distances)\n",
    "\n",
    "# 输出最短路径\n",
    "print(\"最短路径：\", predecessors)"
   ]
  }
 ],
 "metadata": {
  "kernelspec": {
   "display_name": "Python 3",
   "language": "python",
   "name": "python3"
  },
  "language_info": {
   "codemirror_mode": {
    "name": "ipython",
    "version": 3
   },
   "file_extension": ".py",
   "mimetype": "text/x-python",
   "name": "python",
   "nbconvert_exporter": "python",
   "pygments_lexer": "ipython3",
   "version": "3.11.11"
  }
 },
 "nbformat": 4,
 "nbformat_minor": 2
}
